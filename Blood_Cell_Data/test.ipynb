{
 "cells": [
  {
   "cell_type": "code",
   "execution_count": null,
   "metadata": {},
   "outputs": [
    {
     "name": "stdout",
     "output_type": "stream",
     "text": [
      "Loaded model from runs/detect/train/weights/best.pt\n",
      "\n",
      "image 1/1 e:\\Torch_Project\\YOLO\\BCD_yolo_v8\\test_image.jpg: 320x416 17 RBCs, 1 WBC, 114.0ms\n",
      "Speed: 13.5ms preprocess, 114.0ms inference, 47.5ms postprocess per image at shape (1, 3, 320, 416)\n",
      "Result image saved to test_result.jpg\n"
     ]
    }
   ],
   "source": [
    "from ultralytics import YOLO\n",
    "import cv2\n",
    "import os\n",
    "\n",
    "# 配置參數\n",
    "MODEL_PATH = \"runs/detect/train/weights/best.pt\"  # 模型權重檔案\n",
    "INPUT_IMAGE = \"test_image.jpg\"    # 測試圖片\n",
    "OUTPUT_IMAGE = \"test_result.jpg\"  # 輸出結果圖片\n",
    "\n",
    "\n",
    "if not os.path.exists(MODEL_PATH):\n",
    "    raise FileNotFoundError(f\"Model not found: {MODEL_PATH}\")\n",
    "\n",
    "\n",
    "if not os.path.exists(INPUT_IMAGE):\n",
    "    raise FileNotFoundError(f\"Input image not found: {INPUT_IMAGE}\")\n",
    "\n",
    "# 加載 YOLO 模型\n",
    "model = YOLO(MODEL_PATH)\n",
    "print(f\"Loaded model from {MODEL_PATH}\")\n",
    "results = model.predict(source=INPUT_IMAGE, conf=0.5, save=False)\n",
    "\n",
    "\n",
    "image = cv2.imread(INPUT_IMAGE)\n",
    "class_names = [\"Platelets\", \"RBC\", \"WBC\"]  \n",
    "colors = {\n",
    "    \"Platelets\": (125,50,125),   \n",
    "    \"RBC\": (220, 50, 220),     \n",
    "    \"WBC\": (230,230,230)    \n",
    "}\n",
    "\n",
    "for result in results:\n",
    "    for bbox, conf, cls in zip(result.boxes.xyxy, result.boxes.conf, result.boxes.cls):\n",
    "        x1, y1, x2, y2 = map(int, bbox)  \n",
    "        class_name = class_names[int(cls)]  \n",
    "        confidence = float(conf)  \n",
    "\n",
    "        label = f\"{class_name} {confidence:.2f}\"\n",
    "        color = colors[class_name]  \n",
    "\n",
    "        cv2.rectangle(image, (x1, y1), (x2, y2), color, 2)\n",
    "        cv2.putText(image, label, (x1, y1 - 10), cv2.FONT_HERSHEY_SIMPLEX, 0.5, color, 1)\n",
    "\n",
    "\n",
    "cv2.imwrite(OUTPUT_IMAGE, image)\n",
    "print(f\"Result image saved to {OUTPUT_IMAGE}\")\n"
   ]
  },
  {
   "cell_type": "code",
   "execution_count": null,
   "metadata": {},
   "outputs": [],
   "source": []
  }
 ],
 "metadata": {
  "kernelspec": {
   "display_name": "torch_env",
   "language": "python",
   "name": "python3"
  },
  "language_info": {
   "codemirror_mode": {
    "name": "ipython",
    "version": 3
   },
   "file_extension": ".py",
   "mimetype": "text/x-python",
   "name": "python",
   "nbconvert_exporter": "python",
   "pygments_lexer": "ipython3",
   "version": "3.8.18"
  }
 },
 "nbformat": 4,
 "nbformat_minor": 2
}
