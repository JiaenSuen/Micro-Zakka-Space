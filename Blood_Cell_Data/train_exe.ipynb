{
 "cells": [
  {
   "cell_type": "code",
   "execution_count": null,
   "metadata": {},
   "outputs": [
    {
     "name": "stdout",
     "output_type": "stream",
     "text": [
      "Generated e:\\Torch_Project\\YOLO\\BCD_yolo_v8\\dataset.yaml configuration file.\n",
      "No pre-trained weights found. Using default yolov8n.pt weights\n",
      "Removing existing train directory: e:\\Torch_Project\\YOLO\\BCD_yolo_v8\\runs\\detect\\train\n",
      "Using device: cuda\n",
      "Starting training...\n",
      "New https://pypi.org/project/ultralytics/8.3.46 available  Update with 'pip install -U ultralytics'\n",
      "\u001b[34m\u001b[1mengine\\trainer: \u001b[0mtask=detect, mode=train, model=yolov8n.pt, data=e:\\Torch_Project\\YOLO\\BCD_yolo_v8\\dataset.yaml, epochs=10, time=None, patience=100, batch=8, imgsz=416, save=True, save_period=-1, cache=False, device=cuda:0, workers=8, project=e:\\Torch_Project\\YOLO\\BCD_yolo_v8\\runs, name=train, exist_ok=True, pretrained=True, optimizer=auto, verbose=True, seed=0, deterministic=True, single_cls=False, rect=False, cos_lr=False, close_mosaic=10, resume=False, amp=True, fraction=1.0, profile=False, freeze=None, multi_scale=False, overlap_mask=True, mask_ratio=4, dropout=0.0, val=True, split=val, save_json=False, save_hybrid=False, conf=None, iou=0.7, max_det=300, half=False, dnn=False, plots=True, source=None, vid_stride=1, stream_buffer=False, visualize=False, augment=False, agnostic_nms=False, classes=None, retina_masks=False, embed=None, show=False, save_frames=False, save_txt=False, save_conf=False, save_crop=False, show_labels=True, show_conf=True, show_boxes=True, line_width=None, format=torchscript, keras=False, optimize=False, int8=False, dynamic=False, simplify=True, opset=None, workspace=None, nms=False, lr0=0.01, lrf=0.01, momentum=0.937, weight_decay=0.0005, warmup_epochs=3.0, warmup_momentum=0.8, warmup_bias_lr=0.1, box=7.5, cls=0.5, dfl=1.5, pose=12.0, kobj=1.0, nbs=64, hsv_h=0.015, hsv_s=0.7, hsv_v=0.4, degrees=0.0, translate=0.1, scale=0.5, shear=0.0, perspective=0.0, flipud=0.0, fliplr=0.5, bgr=0.0, mosaic=1.0, mixup=0.0, copy_paste=0.0, copy_paste_mode=flip, auto_augment=randaugment, erasing=0.4, crop_fraction=1.0, cfg=None, tracker=botsort.yaml, save_dir=e:\\Torch_Project\\YOLO\\BCD_yolo_v8\\runs\\detect\\train\n",
      "Overriding model.yaml nc=80 with nc=3\n",
      "\n",
      "                   from  n    params  module                                       arguments                     \n",
      "  0                  -1  1       464  ultralytics.nn.modules.conv.Conv             [3, 16, 3, 2]                 \n",
      "  1                  -1  1      4672  ultralytics.nn.modules.conv.Conv             [16, 32, 3, 2]                \n",
      "  2                  -1  1      7360  ultralytics.nn.modules.block.C2f             [32, 32, 1, True]             \n",
      "  3                  -1  1     18560  ultralytics.nn.modules.conv.Conv             [32, 64, 3, 2]                \n",
      "  4                  -1  2     49664  ultralytics.nn.modules.block.C2f             [64, 64, 2, True]             \n",
      "  5                  -1  1     73984  ultralytics.nn.modules.conv.Conv             [64, 128, 3, 2]               \n",
      "  6                  -1  2    197632  ultralytics.nn.modules.block.C2f             [128, 128, 2, True]           \n",
      "  7                  -1  1    295424  ultralytics.nn.modules.conv.Conv             [128, 256, 3, 2]              \n",
      "  8                  -1  1    460288  ultralytics.nn.modules.block.C2f             [256, 256, 1, True]           \n",
      "  9                  -1  1    164608  ultralytics.nn.modules.block.SPPF            [256, 256, 5]                 \n",
      " 10                  -1  1         0  torch.nn.modules.upsampling.Upsample         [None, 2, 'nearest']          \n",
      " 11             [-1, 6]  1         0  ultralytics.nn.modules.conv.Concat           [1]                           \n",
      " 12                  -1  1    148224  ultralytics.nn.modules.block.C2f             [384, 128, 1]                 \n",
      " 13                  -1  1         0  torch.nn.modules.upsampling.Upsample         [None, 2, 'nearest']          \n",
      " 14             [-1, 4]  1         0  ultralytics.nn.modules.conv.Concat           [1]                           \n",
      " 15                  -1  1     37248  ultralytics.nn.modules.block.C2f             [192, 64, 1]                  \n",
      " 16                  -1  1     36992  ultralytics.nn.modules.conv.Conv             [64, 64, 3, 2]                \n",
      " 17            [-1, 12]  1         0  ultralytics.nn.modules.conv.Concat           [1]                           \n",
      " 18                  -1  1    123648  ultralytics.nn.modules.block.C2f             [192, 128, 1]                 \n",
      " 19                  -1  1    147712  ultralytics.nn.modules.conv.Conv             [128, 128, 3, 2]              \n",
      " 20             [-1, 9]  1         0  ultralytics.nn.modules.conv.Concat           [1]                           \n",
      " 21                  -1  1    493056  ultralytics.nn.modules.block.C2f             [384, 256, 1]                 \n",
      " 22        [15, 18, 21]  1    751897  ultralytics.nn.modules.head.Detect           [3, [64, 128, 256]]           \n",
      "Model summary: 225 layers, 3,011,433 parameters, 3,011,417 gradients, 8.2 GFLOPs\n",
      "\n",
      "Transferred 319/355 items from pretrained weights\n",
      "Freezing layer 'model.22.dfl.conv.weight'\n",
      "\u001b[34m\u001b[1mAMP: \u001b[0mrunning Automatic Mixed Precision (AMP) checks...\n",
      "\u001b[34m\u001b[1mAMP: \u001b[0mchecks passed \n"
     ]
    },
    {
     "name": "stderr",
     "output_type": "stream",
     "text": [
      "\u001b[34m\u001b[1mtrain: \u001b[0mScanning E:\\Torch_Project\\YOLO\\BCD_yolo_v8\\BCD\\train\\labels.cache... 255 images, 0 backgrounds, 0 corrupt: 100%|██████████| 255/255 [00:00<?, ?it/s]\n"
     ]
    },
    {
     "name": "stdout",
     "output_type": "stream",
     "text": [
      "\u001b[34m\u001b[1malbumentations: \u001b[0mBlur(p=0.01, blur_limit=(3, 7)), MedianBlur(p=0.01, blur_limit=(3, 7)), ToGray(p=0.01), CLAHE(p=0.01, clip_limit=(1, 4.0), tile_grid_size=(8, 8))\n"
     ]
    },
    {
     "name": "stderr",
     "output_type": "stream",
     "text": [
      "\u001b[34m\u001b[1mval: \u001b[0mScanning E:\\Torch_Project\\YOLO\\BCD_yolo_v8\\BCD\\valid\\labels.cache... 73 images, 0 backgrounds, 0 corrupt: 100%|██████████| 73/73 [00:00<?, ?it/s]\n"
     ]
    },
    {
     "name": "stdout",
     "output_type": "stream",
     "text": [
      "Plotting labels to e:\\Torch_Project\\YOLO\\BCD_yolo_v8\\runs\\detect\\train\\labels.jpg... \n",
      "\u001b[34m\u001b[1moptimizer:\u001b[0m 'optimizer=auto' found, ignoring 'lr0=0.01' and 'momentum=0.937' and determining best 'optimizer', 'lr0' and 'momentum' automatically... \n",
      "\u001b[34m\u001b[1moptimizer:\u001b[0m AdamW(lr=0.001429, momentum=0.9) with parameter groups 57 weight(decay=0.0), 64 weight(decay=0.0005), 63 bias(decay=0.0)\n",
      "Image sizes 416 train, 416 val\n",
      "Using 8 dataloader workers\n",
      "Logging results to \u001b[1me:\\Torch_Project\\YOLO\\BCD_yolo_v8\\runs\\detect\\train\u001b[0m\n",
      "Starting training for 10 epochs...\n",
      "Closing dataloader mosaic\n",
      "\u001b[34m\u001b[1malbumentations: \u001b[0mBlur(p=0.01, blur_limit=(3, 7)), MedianBlur(p=0.01, blur_limit=(3, 7)), ToGray(p=0.01), CLAHE(p=0.01, clip_limit=(1, 4.0), tile_grid_size=(8, 8))\n",
      "\n",
      "      Epoch    GPU_mem   box_loss   cls_loss   dfl_loss  Instances       Size\n"
     ]
    },
    {
     "name": "stderr",
     "output_type": "stream",
     "text": [
      "       1/10     0.994G      1.385      2.975       1.39         97        416: 100%|██████████| 32/32 [00:05<00:00,  5.58it/s]\n",
      "                 Class     Images  Instances      Box(P          R      mAP50  mAP50-95): 100%|██████████| 5/5 [00:00<00:00,  5.87it/s]"
     ]
    },
    {
     "name": "stdout",
     "output_type": "stream",
     "text": [
      "                   all         73        967      0.942      0.208      0.479       0.29\n"
     ]
    },
    {
     "name": "stderr",
     "output_type": "stream",
     "text": [
      "\n"
     ]
    },
    {
     "name": "stdout",
     "output_type": "stream",
     "text": [
      "\n",
      "      Epoch    GPU_mem   box_loss   cls_loss   dfl_loss  Instances       Size\n"
     ]
    },
    {
     "name": "stderr",
     "output_type": "stream",
     "text": [
      "       2/10     0.994G      1.265      1.453      1.304        105        416: 100%|██████████| 32/32 [00:02<00:00, 12.95it/s]\n",
      "                 Class     Images  Instances      Box(P          R      mAP50  mAP50-95): 100%|██████████| 5/5 [00:00<00:00, 12.09it/s]"
     ]
    },
    {
     "name": "stdout",
     "output_type": "stream",
     "text": [
      "                   all         73        967      0.856      0.582      0.563      0.352\n"
     ]
    },
    {
     "name": "stderr",
     "output_type": "stream",
     "text": [
      "\n"
     ]
    },
    {
     "name": "stdout",
     "output_type": "stream",
     "text": [
      "\n",
      "      Epoch    GPU_mem   box_loss   cls_loss   dfl_loss  Instances       Size\n"
     ]
    },
    {
     "name": "stderr",
     "output_type": "stream",
     "text": [
      "       3/10     0.994G      1.204      1.304       1.24         95        416: 100%|██████████| 32/32 [00:02<00:00, 13.60it/s]\n",
      "                 Class     Images  Instances      Box(P          R      mAP50  mAP50-95): 100%|██████████| 5/5 [00:00<00:00, 10.85it/s]"
     ]
    },
    {
     "name": "stdout",
     "output_type": "stream",
     "text": [
      "                   all         73        967      0.883       0.61      0.676      0.451\n"
     ]
    },
    {
     "name": "stderr",
     "output_type": "stream",
     "text": [
      "\n"
     ]
    },
    {
     "name": "stdout",
     "output_type": "stream",
     "text": [
      "\n",
      "      Epoch    GPU_mem   box_loss   cls_loss   dfl_loss  Instances       Size\n"
     ]
    },
    {
     "name": "stderr",
     "output_type": "stream",
     "text": [
      "       4/10     0.994G      1.176      1.182      1.223        105        416: 100%|██████████| 32/32 [00:02<00:00, 13.12it/s]\n",
      "                 Class     Images  Instances      Box(P          R      mAP50  mAP50-95): 100%|██████████| 5/5 [00:00<00:00, 10.30it/s]"
     ]
    },
    {
     "name": "stdout",
     "output_type": "stream",
     "text": [
      "                   all         73        967      0.798      0.869      0.893      0.587\n"
     ]
    },
    {
     "name": "stderr",
     "output_type": "stream",
     "text": [
      "\n"
     ]
    },
    {
     "name": "stdout",
     "output_type": "stream",
     "text": [
      "\n",
      "      Epoch    GPU_mem   box_loss   cls_loss   dfl_loss  Instances       Size\n"
     ]
    },
    {
     "name": "stderr",
     "output_type": "stream",
     "text": [
      "       5/10     0.994G      1.139      1.081       1.22         97        416: 100%|██████████| 32/32 [00:02<00:00, 13.01it/s]\n",
      "                 Class     Images  Instances      Box(P          R      mAP50  mAP50-95): 100%|██████████| 5/5 [00:00<00:00, 11.64it/s]"
     ]
    },
    {
     "name": "stdout",
     "output_type": "stream",
     "text": [
      "                   all         73        967      0.833      0.863      0.906      0.593\n"
     ]
    },
    {
     "name": "stderr",
     "output_type": "stream",
     "text": [
      "\n"
     ]
    },
    {
     "name": "stdout",
     "output_type": "stream",
     "text": [
      "\n",
      "      Epoch    GPU_mem   box_loss   cls_loss   dfl_loss  Instances       Size\n"
     ]
    },
    {
     "name": "stderr",
     "output_type": "stream",
     "text": [
      "       6/10     0.994G       1.15      1.051        1.2         77        416: 100%|██████████| 32/32 [00:02<00:00, 13.66it/s]\n",
      "                 Class     Images  Instances      Box(P          R      mAP50  mAP50-95): 100%|██████████| 5/5 [00:00<00:00, 11.97it/s]"
     ]
    },
    {
     "name": "stdout",
     "output_type": "stream",
     "text": [
      "                   all         73        967      0.864      0.881      0.906      0.615\n"
     ]
    },
    {
     "name": "stderr",
     "output_type": "stream",
     "text": [
      "\n"
     ]
    },
    {
     "name": "stdout",
     "output_type": "stream",
     "text": [
      "\n",
      "      Epoch    GPU_mem   box_loss   cls_loss   dfl_loss  Instances       Size\n"
     ]
    },
    {
     "name": "stderr",
     "output_type": "stream",
     "text": [
      "       7/10     0.994G      1.111     0.9981      1.181         85        416: 100%|██████████| 32/32 [00:02<00:00, 15.51it/s]\n",
      "                 Class     Images  Instances      Box(P          R      mAP50  mAP50-95): 100%|██████████| 5/5 [00:00<00:00, 12.14it/s]"
     ]
    },
    {
     "name": "stdout",
     "output_type": "stream",
     "text": [
      "                   all         73        967      0.833      0.919      0.915      0.618\n"
     ]
    },
    {
     "name": "stderr",
     "output_type": "stream",
     "text": [
      "\n"
     ]
    },
    {
     "name": "stdout",
     "output_type": "stream",
     "text": [
      "\n",
      "      Epoch    GPU_mem   box_loss   cls_loss   dfl_loss  Instances       Size\n"
     ]
    },
    {
     "name": "stderr",
     "output_type": "stream",
     "text": [
      "       8/10     0.994G      1.092     0.9716       1.18         97        416: 100%|██████████| 32/32 [00:02<00:00, 15.63it/s]\n",
      "                 Class     Images  Instances      Box(P          R      mAP50  mAP50-95): 100%|██████████| 5/5 [00:00<00:00, 12.69it/s]"
     ]
    },
    {
     "name": "stdout",
     "output_type": "stream",
     "text": [
      "                   all         73        967      0.851      0.907      0.919       0.64\n"
     ]
    },
    {
     "name": "stderr",
     "output_type": "stream",
     "text": [
      "\n"
     ]
    },
    {
     "name": "stdout",
     "output_type": "stream",
     "text": [
      "\n",
      "      Epoch    GPU_mem   box_loss   cls_loss   dfl_loss  Instances       Size\n"
     ]
    },
    {
     "name": "stderr",
     "output_type": "stream",
     "text": [
      "       9/10     0.994G      1.081     0.9676      1.162         94        416: 100%|██████████| 32/32 [00:02<00:00, 15.06it/s]\n",
      "                 Class     Images  Instances      Box(P          R      mAP50  mAP50-95): 100%|██████████| 5/5 [00:00<00:00, 12.27it/s]"
     ]
    },
    {
     "name": "stdout",
     "output_type": "stream",
     "text": [
      "                   all         73        967      0.848      0.922      0.916      0.633\n"
     ]
    },
    {
     "name": "stderr",
     "output_type": "stream",
     "text": [
      "\n"
     ]
    },
    {
     "name": "stdout",
     "output_type": "stream",
     "text": [
      "\n",
      "      Epoch    GPU_mem   box_loss   cls_loss   dfl_loss  Instances       Size\n"
     ]
    },
    {
     "name": "stderr",
     "output_type": "stream",
     "text": [
      "      10/10     0.994G      1.066      0.961      1.167        114        416: 100%|██████████| 32/32 [00:02<00:00, 15.27it/s]\n",
      "                 Class     Images  Instances      Box(P          R      mAP50  mAP50-95): 100%|██████████| 5/5 [00:00<00:00, 12.75it/s]"
     ]
    },
    {
     "name": "stdout",
     "output_type": "stream",
     "text": [
      "                   all         73        967      0.829      0.939      0.916      0.636\n"
     ]
    },
    {
     "name": "stderr",
     "output_type": "stream",
     "text": [
      "\n"
     ]
    },
    {
     "name": "stdout",
     "output_type": "stream",
     "text": [
      "\n",
      "10 epochs completed in 0.019 hours.\n",
      "Optimizer stripped from e:\\Torch_Project\\YOLO\\BCD_yolo_v8\\runs\\detect\\train\\weights\\last.pt, 6.2MB\n",
      "Optimizer stripped from e:\\Torch_Project\\YOLO\\BCD_yolo_v8\\runs\\detect\\train\\weights\\best.pt, 6.2MB\n",
      "\n",
      "Validating e:\\Torch_Project\\YOLO\\BCD_yolo_v8\\runs\\detect\\train\\weights\\best.pt...\n",
      "Ultralytics 8.3.44  Python-3.8.18 torch-2.0.0+cu118 CUDA:0 (NVIDIA GeForce RTX 4060 Laptop GPU, 8188MiB)\n",
      "Model summary (fused): 168 layers, 3,006,233 parameters, 0 gradients, 8.1 GFLOPs\n"
     ]
    },
    {
     "name": "stderr",
     "output_type": "stream",
     "text": [
      "                 Class     Images  Instances      Box(P          R      mAP50  mAP50-95): 100%|██████████| 5/5 [00:01<00:00,  2.98it/s]\n"
     ]
    },
    {
     "name": "stdout",
     "output_type": "stream",
     "text": [
      "                   all         73        967      0.851      0.906      0.919      0.642\n",
      "             Platelets         42         76      0.819      0.868      0.876      0.497\n",
      "                   RBC         72        819      0.767      0.849      0.888      0.627\n",
      "                   WBC         71         72      0.968          1      0.992      0.801\n",
      "Speed: 0.4ms preprocess, 1.4ms inference, 0.0ms loss, 10.0ms postprocess per image\n",
      "Results saved to \u001b[1me:\\Torch_Project\\YOLO\\BCD_yolo_v8\\runs\\detect\\train\u001b[0m\n",
      "Training completed! Weights saved in e:\\Torch_Project\\YOLO\\BCD_yolo_v8\\runs\\detect\\train\n",
      "Generating predictions for test images...\n"
     ]
    },
    {
     "name": "stderr",
     "output_type": "stream",
     "text": [
      "Processing Images:   0%|          | 0/20 [00:00<?, ?it/s]"
     ]
    },
    {
     "name": "stdout",
     "output_type": "stream",
     "text": [
      "\n",
      "image 1/1 e:\\Torch_Project\\YOLO\\BCD_yolo_v8\\BCD\\test\\images\\BloodImage_00038_jpg.rf.63d04b5c9db95f32fa7669f72e4903ca.jpg: 320x416 1 Platelets, 14 RBCs, 1 WBC, 187.9ms\n",
      "Speed: 3.0ms preprocess, 187.9ms inference, 4.5ms postprocess per image at shape (1, 3, 320, 416)\n"
     ]
    },
    {
     "name": "stderr",
     "output_type": "stream",
     "text": [
      "Processing Images:   5%|▌         | 1/20 [00:00<00:10,  1.82it/s]"
     ]
    },
    {
     "name": "stdout",
     "output_type": "stream",
     "text": [
      "Saved: e:\\Torch_Project\\YOLO\\BCD_yolo_v8\\Recording\\BloodImage_00038_jpg.rf.63d04b5c9db95f32fa7669f72e4903ca.jpg\n",
      "\n",
      "image 1/1 e:\\Torch_Project\\YOLO\\BCD_yolo_v8\\BCD\\test\\images\\BloodImage_00044_jpg.rf.589ee3d351cb6d9a3f7b7a942da5370a.jpg: 320x416 2 Plateletss, 13 RBCs, 2 WBCs, 15.0ms\n",
      "Speed: 2.0ms preprocess, 15.0ms inference, 2.5ms postprocess per image at shape (1, 3, 320, 416)\n",
      "Saved: e:\\Torch_Project\\YOLO\\BCD_yolo_v8\\Recording\\BloodImage_00044_jpg.rf.589ee3d351cb6d9a3f7b7a942da5370a.jpg\n",
      "\n",
      "image 1/1 e:\\Torch_Project\\YOLO\\BCD_yolo_v8\\BCD\\test\\images\\BloodImage_00062_jpg.rf.1cecc20a21ac39cb54cf532081a1e893.jpg: 320x416 1 Platelets, 12 RBCs, 1 WBC, 14.5ms\n",
      "Speed: 2.0ms preprocess, 14.5ms inference, 2.0ms postprocess per image at shape (1, 3, 320, 416)\n",
      "Saved: e:\\Torch_Project\\YOLO\\BCD_yolo_v8\\Recording\\BloodImage_00062_jpg.rf.1cecc20a21ac39cb54cf532081a1e893.jpg\n",
      "\n",
      "image 1/1 e:\\Torch_Project\\YOLO\\BCD_yolo_v8\\BCD\\test\\images\\BloodImage_00090_jpg.rf.5267690cb6a13608d39b0424bef3c9b4.jpg: 320x416 2 Plateletss, 9 RBCs, 1 WBC, 15.0ms\n",
      "Speed: 2.0ms preprocess, 15.0ms inference, 3.1ms postprocess per image at shape (1, 3, 320, 416)\n"
     ]
    },
    {
     "name": "stderr",
     "output_type": "stream",
     "text": [
      "Processing Images:  20%|██        | 4/20 [00:00<00:02,  6.99it/s]"
     ]
    },
    {
     "name": "stdout",
     "output_type": "stream",
     "text": [
      "Saved: e:\\Torch_Project\\YOLO\\BCD_yolo_v8\\Recording\\BloodImage_00090_jpg.rf.5267690cb6a13608d39b0424bef3c9b4.jpg\n",
      "\n",
      "image 1/1 e:\\Torch_Project\\YOLO\\BCD_yolo_v8\\BCD\\test\\images\\BloodImage_00099_jpg.rf.744666666386a07e242e214e041945ba.jpg: 320x416 2 Plateletss, 13 RBCs, 1 WBC, 15.0ms\n",
      "Speed: 2.0ms preprocess, 15.0ms inference, 2.0ms postprocess per image at shape (1, 3, 320, 416)\n",
      "Saved: e:\\Torch_Project\\YOLO\\BCD_yolo_v8\\Recording\\BloodImage_00099_jpg.rf.744666666386a07e242e214e041945ba.jpg\n",
      "\n",
      "image 1/1 e:\\Torch_Project\\YOLO\\BCD_yolo_v8\\BCD\\test\\images\\BloodImage_00112_jpg.rf.e4b507506c4a70882bb23cb743061a66.jpg: 320x416 1 Platelets, 13 RBCs, 1 WBC, 16.0ms\n",
      "Speed: 5.0ms preprocess, 16.0ms inference, 2.0ms postprocess per image at shape (1, 3, 320, 416)\n"
     ]
    },
    {
     "name": "stderr",
     "output_type": "stream",
     "text": [
      "Processing Images:  30%|███       | 6/20 [00:00<00:01,  9.72it/s]"
     ]
    },
    {
     "name": "stdout",
     "output_type": "stream",
     "text": [
      "Saved: e:\\Torch_Project\\YOLO\\BCD_yolo_v8\\Recording\\BloodImage_00112_jpg.rf.e4b507506c4a70882bb23cb743061a66.jpg\n",
      "\n",
      "image 1/1 e:\\Torch_Project\\YOLO\\BCD_yolo_v8\\BCD\\test\\images\\BloodImage_00113_jpg.rf.250f3f0288ad89f4f961529434d99713.jpg: 320x416 1 Platelets, 14 RBCs, 1 WBC, 14.7ms\n",
      "Speed: 2.0ms preprocess, 14.7ms inference, 2.0ms postprocess per image at shape (1, 3, 320, 416)\n",
      "Saved: e:\\Torch_Project\\YOLO\\BCD_yolo_v8\\Recording\\BloodImage_00113_jpg.rf.250f3f0288ad89f4f961529434d99713.jpg\n",
      "\n",
      "image 1/1 e:\\Torch_Project\\YOLO\\BCD_yolo_v8\\BCD\\test\\images\\BloodImage_00120_jpg.rf.01566ae891eda007b18994a74255367c.jpg: 320x416 9 RBCs, 1 WBC, 14.0ms\n",
      "Speed: 7.0ms preprocess, 14.0ms inference, 2.0ms postprocess per image at shape (1, 3, 320, 416)\n",
      "Saved: e:\\Torch_Project\\YOLO\\BCD_yolo_v8\\Recording\\BloodImage_00120_jpg.rf.01566ae891eda007b18994a74255367c.jpg\n",
      "\n",
      "image 1/1 e:\\Torch_Project\\YOLO\\BCD_yolo_v8\\BCD\\test\\images\\BloodImage_00133_jpg.rf.4f9b4435c673ed96c9deeb985c805d24.jpg: 320x416 9 RBCs, 1 WBC, 15.0ms\n",
      "Speed: 2.0ms preprocess, 15.0ms inference, 1.0ms postprocess per image at shape (1, 3, 320, 416)\n"
     ]
    },
    {
     "name": "stderr",
     "output_type": "stream",
     "text": [
      "Processing Images:  45%|████▌     | 9/20 [00:00<00:00, 13.13it/s]"
     ]
    },
    {
     "name": "stdout",
     "output_type": "stream",
     "text": [
      "Saved: e:\\Torch_Project\\YOLO\\BCD_yolo_v8\\Recording\\BloodImage_00133_jpg.rf.4f9b4435c673ed96c9deeb985c805d24.jpg\n",
      "\n",
      "image 1/1 e:\\Torch_Project\\YOLO\\BCD_yolo_v8\\BCD\\test\\images\\BloodImage_00134_jpg.rf.f026a98ce4257048a617a01c70aac485.jpg: 320x416 1 Platelets, 10 RBCs, 1 WBC, 15.0ms\n",
      "Speed: 2.0ms preprocess, 15.0ms inference, 2.0ms postprocess per image at shape (1, 3, 320, 416)\n",
      "Saved: e:\\Torch_Project\\YOLO\\BCD_yolo_v8\\Recording\\BloodImage_00134_jpg.rf.f026a98ce4257048a617a01c70aac485.jpg\n",
      "\n",
      "image 1/1 e:\\Torch_Project\\YOLO\\BCD_yolo_v8\\BCD\\test\\images\\BloodImage_00154_jpg.rf.c2a4d782d9505a7e89d4a71cdb38461e.jpg: 320x416 1 Platelets, 14 RBCs, 1 WBC, 16.0ms\n",
      "Speed: 2.0ms preprocess, 16.0ms inference, 1.0ms postprocess per image at shape (1, 3, 320, 416)\n"
     ]
    },
    {
     "name": "stderr",
     "output_type": "stream",
     "text": [
      "Processing Images:  55%|█████▌    | 11/20 [00:01<00:00, 14.59it/s]"
     ]
    },
    {
     "name": "stdout",
     "output_type": "stream",
     "text": [
      "Saved: e:\\Torch_Project\\YOLO\\BCD_yolo_v8\\Recording\\BloodImage_00154_jpg.rf.c2a4d782d9505a7e89d4a71cdb38461e.jpg\n",
      "\n",
      "image 1/1 e:\\Torch_Project\\YOLO\\BCD_yolo_v8\\BCD\\test\\images\\BloodImage_00160_jpg.rf.63a1db217fa927dad3f2d2488b5e7862.jpg: 320x416 1 Platelets, 12 RBCs, 1 WBC, 14.0ms\n",
      "Speed: 6.0ms preprocess, 14.0ms inference, 2.0ms postprocess per image at shape (1, 3, 320, 416)\n",
      "Saved: e:\\Torch_Project\\YOLO\\BCD_yolo_v8\\Recording\\BloodImage_00160_jpg.rf.63a1db217fa927dad3f2d2488b5e7862.jpg\n",
      "\n",
      "image 1/1 e:\\Torch_Project\\YOLO\\BCD_yolo_v8\\BCD\\test\\images\\BloodImage_00190_jpg.rf.257a9f96afccdbed515a290b694f4c15.jpg: 320x416 1 Platelets, 13 RBCs, 1 WBC, 15.6ms\n",
      "Speed: 2.0ms preprocess, 15.6ms inference, 1.0ms postprocess per image at shape (1, 3, 320, 416)\n",
      "Saved: e:\\Torch_Project\\YOLO\\BCD_yolo_v8\\Recording\\BloodImage_00190_jpg.rf.257a9f96afccdbed515a290b694f4c15.jpg\n",
      "\n",
      "image 1/1 e:\\Torch_Project\\YOLO\\BCD_yolo_v8\\BCD\\test\\images\\BloodImage_00191_jpg.rf.9fecdaf56689fc80d667ef8d8da6bc27.jpg: 320x416 13 RBCs, 1 WBC, 16.0ms\n",
      "Speed: 3.0ms preprocess, 16.0ms inference, 2.0ms postprocess per image at shape (1, 3, 320, 416)\n"
     ]
    },
    {
     "name": "stderr",
     "output_type": "stream",
     "text": [
      "Processing Images:  70%|███████   | 14/20 [00:01<00:00, 16.68it/s]"
     ]
    },
    {
     "name": "stdout",
     "output_type": "stream",
     "text": [
      "Saved: e:\\Torch_Project\\YOLO\\BCD_yolo_v8\\Recording\\BloodImage_00191_jpg.rf.9fecdaf56689fc80d667ef8d8da6bc27.jpg\n",
      "\n",
      "image 1/1 e:\\Torch_Project\\YOLO\\BCD_yolo_v8\\BCD\\test\\images\\BloodImage_00204_jpg.rf.0555bc62812f0987a35f05f0960dd7c4.jpg: 320x416 1 Platelets, 13 RBCs, 1 WBC, 15.0ms\n",
      "Speed: 5.9ms preprocess, 15.0ms inference, 3.0ms postprocess per image at shape (1, 3, 320, 416)\n",
      "Saved: e:\\Torch_Project\\YOLO\\BCD_yolo_v8\\Recording\\BloodImage_00204_jpg.rf.0555bc62812f0987a35f05f0960dd7c4.jpg\n",
      "\n",
      "image 1/1 e:\\Torch_Project\\YOLO\\BCD_yolo_v8\\BCD\\test\\images\\BloodImage_00227_jpg.rf.816711b066fae3bdf16851eaebc13eb5.jpg: 320x416 15 RBCs, 1 WBC, 16.0ms\n",
      "Speed: 2.0ms preprocess, 16.0ms inference, 3.1ms postprocess per image at shape (1, 3, 320, 416)\n",
      "Saved: e:\\Torch_Project\\YOLO\\BCD_yolo_v8\\Recording\\BloodImage_00227_jpg.rf.816711b066fae3bdf16851eaebc13eb5.jpg\n"
     ]
    },
    {
     "name": "stderr",
     "output_type": "stream",
     "text": [
      "Processing Images:  80%|████████  | 16/20 [00:01<00:00, 17.48it/s]"
     ]
    },
    {
     "name": "stdout",
     "output_type": "stream",
     "text": [
      "\n",
      "image 1/1 e:\\Torch_Project\\YOLO\\BCD_yolo_v8\\BCD\\test\\images\\BloodImage_00235_jpg.rf.6028248c6b2b38ea0d4045d289d56ca3.jpg: 320x416 11 RBCs, 1 WBC, 15.0ms\n",
      "Speed: 2.0ms preprocess, 15.0ms inference, 2.0ms postprocess per image at shape (1, 3, 320, 416)\n",
      "Saved: e:\\Torch_Project\\YOLO\\BCD_yolo_v8\\Recording\\BloodImage_00235_jpg.rf.6028248c6b2b38ea0d4045d289d56ca3.jpg\n",
      "\n",
      "image 1/1 e:\\Torch_Project\\YOLO\\BCD_yolo_v8\\BCD\\test\\images\\BloodImage_00241_jpg.rf.00d6593ca59122287542bf819f62fb43.jpg: 320x416 11 RBCs, 1 WBC, 16.0ms\n",
      "Speed: 2.0ms preprocess, 16.0ms inference, 3.0ms postprocess per image at shape (1, 3, 320, 416)\n"
     ]
    },
    {
     "name": "stderr",
     "output_type": "stream",
     "text": [
      "Processing Images:  90%|█████████ | 18/20 [00:01<00:00, 18.03it/s]"
     ]
    },
    {
     "name": "stdout",
     "output_type": "stream",
     "text": [
      "Saved: e:\\Torch_Project\\YOLO\\BCD_yolo_v8\\Recording\\BloodImage_00241_jpg.rf.00d6593ca59122287542bf819f62fb43.jpg\n",
      "\n",
      "image 1/1 e:\\Torch_Project\\YOLO\\BCD_yolo_v8\\BCD\\test\\images\\BloodImage_00254_jpg.rf.3783a73c7c92da8010897e8fb9d14448.jpg: 320x416 2 Plateletss, 16 RBCs, 1 WBC, 14.0ms\n",
      "Speed: 5.0ms preprocess, 14.0ms inference, 2.3ms postprocess per image at shape (1, 3, 320, 416)\n",
      "Saved: e:\\Torch_Project\\YOLO\\BCD_yolo_v8\\Recording\\BloodImage_00254_jpg.rf.3783a73c7c92da8010897e8fb9d14448.jpg\n",
      "\n",
      "image 1/1 e:\\Torch_Project\\YOLO\\BCD_yolo_v8\\BCD\\test\\images\\BloodImage_00265_jpg.rf.acdcdc5c22ee42608c69240af0c5d732.jpg: 320x416 2 Plateletss, 14 RBCs, 1 WBC, 15.0ms\n",
      "Speed: 2.0ms preprocess, 15.0ms inference, 3.0ms postprocess per image at shape (1, 3, 320, 416)\n"
     ]
    },
    {
     "name": "stderr",
     "output_type": "stream",
     "text": [
      "Processing Images: 100%|██████████| 20/20 [00:01<00:00, 13.44it/s]"
     ]
    },
    {
     "name": "stdout",
     "output_type": "stream",
     "text": [
      "Saved: e:\\Torch_Project\\YOLO\\BCD_yolo_v8\\Recording\\BloodImage_00265_jpg.rf.acdcdc5c22ee42608c69240af0c5d732.jpg\n",
      "Processed images saved in: e:\\Torch_Project\\YOLO\\BCD_yolo_v8\\Recording\n",
      "Exporting the model to TorchScript format...\n",
      "Ultralytics 8.3.44  Python-3.8.18 torch-2.0.0+cu118 CPU (12th Gen Intel Core(TM) i7-12700H)\n"
     ]
    },
    {
     "name": "stderr",
     "output_type": "stream",
     "text": [
      "\n"
     ]
    },
    {
     "name": "stdout",
     "output_type": "stream",
     "text": [
      "\n",
      "\u001b[34m\u001b[1mPyTorch:\u001b[0m starting from 'e:\\Torch_Project\\YOLO\\BCD_yolo_v8\\runs\\detect\\train\\weights\\best.pt' with input shape (1, 3, 416, 416) BCHW and output shape(s) (1, 7, 3549) (5.9 MB)\n",
      "\n",
      "\u001b[34m\u001b[1mTorchScript:\u001b[0m starting export with torch 2.0.0+cu118...\n",
      "\u001b[34m\u001b[1mTorchScript:\u001b[0m export success  1.9s, saved as 'e:\\Torch_Project\\YOLO\\BCD_yolo_v8\\runs\\detect\\train\\weights\\best.torchscript' (11.8 MB)\n",
      "\n",
      "Export complete (2.1s)\n",
      "Results saved to \u001b[1mE:\\Torch_Project\\YOLO\\BCD_yolo_v8\\runs\\detect\\train\\weights\u001b[0m\n",
      "Predict:         yolo predict task=detect model=e:\\Torch_Project\\YOLO\\BCD_yolo_v8\\runs\\detect\\train\\weights\\best.torchscript imgsz=416  \n",
      "Validate:        yolo val task=detect model=e:\\Torch_Project\\YOLO\\BCD_yolo_v8\\runs\\detect\\train\\weights\\best.torchscript imgsz=416 data=e:\\Torch_Project\\YOLO\\BCD_yolo_v8\\dataset.yaml  \n",
      "Visualize:       https://netron.app\n",
      "Model successfully exported to TorchScript format.\n"
     ]
    }
   ],
   "source": [
    "from ultralytics import YOLO\n",
    "import os\n",
    "import cv2\n",
    "import yaml\n",
    "import torch\n",
    "from tqdm import tqdm\n",
    "import shutil\n",
    "\n",
    "# 設定基準目錄\n",
    "try:\n",
    "    BASE_DIR = os.path.abspath(os.path.dirname(__file__))\n",
    "except NameError:\n",
    "    BASE_DIR = os.path.abspath(os.getcwd())\n",
    "\n",
    "\n",
    "# 定義資料集結構\n",
    "DATASET_DIR = os.path.join(BASE_DIR, \"BCD\")\n",
    "TRAIN_IMAGES_DIR = os.path.join(DATASET_DIR, \"train/images\")\n",
    "VAL_IMAGES_DIR = os.path.join(DATASET_DIR, \"valid/images\")\n",
    "TEST_IMAGES_DIR = os.path.join(DATASET_DIR, \"test/images\")\n",
    "\n",
    "# 檢查資料夾是否存在\n",
    "def check_directory_exists(path, description):\n",
    "    if not os.path.exists(path):\n",
    "        raise FileNotFoundError(f\"{description} not found: {path}\")\n",
    "\n",
    "check_directory_exists(TRAIN_IMAGES_DIR, \"Train images folder\")\n",
    "check_directory_exists(VAL_IMAGES_DIR, \"Validation images folder\")\n",
    "check_directory_exists(TEST_IMAGES_DIR, \"Test images folder\")\n",
    "\n",
    "# 生成 dataset.yaml 配置文件\n",
    "DATASET_YAML = os.path.join(BASE_DIR, \"dataset.yaml\")\n",
    "dataset_info = {\n",
    "    'train': TRAIN_IMAGES_DIR,\n",
    "    'val': VAL_IMAGES_DIR,\n",
    "    'test': TEST_IMAGES_DIR,\n",
    "    'nc': 3,\n",
    "    'names': [\"Platelets\", \"RBC\", \"WBC\"]\n",
    "}\n",
    "\n",
    "with open(DATASET_YAML, 'w') as yaml_file:\n",
    "    yaml.dump(dataset_info, yaml_file, default_flow_style=False)\n",
    "\n",
    "print(f\"Generated {DATASET_YAML} configuration file.\")\n",
    "\n",
    "# 模型參數\n",
    "MODEL_NAME = \"yolov8n\"\n",
    "EPOCHS = 10\n",
    "BATCH_SIZE = 8\n",
    "IMAGE_SIZE = 416\n",
    "SAVE_DIR = os.path.join(BASE_DIR, \"runs\")\n",
    "TRAIN_DIR = os.path.join(SAVE_DIR, \"detect\", \"train\")\n",
    "\n",
    "# 創建 YOLO 模型\n",
    "weights_path = os.path.join(TRAIN_DIR, \"weights/best.pt\")\n",
    "if os.path.exists(weights_path):\n",
    "    print(f\"Loading existing weights from {weights_path}\")\n",
    "    model = YOLO(weights_path)\n",
    "else:\n",
    "    print(f\"No pre-trained weights found. Using default {MODEL_NAME}.pt weights\")\n",
    "    model = YOLO(f\"{MODEL_NAME}.pt\")\n",
    "\n",
    "if os.path.exists(TRAIN_DIR):\n",
    "    print(f\"Removing existing train directory: {TRAIN_DIR}\")\n",
    "    shutil.rmtree(TRAIN_DIR)\n",
    "os.makedirs(TRAIN_DIR, exist_ok=True)\n",
    "\n",
    "# GPU\n",
    "device = 'cuda' if torch.cuda.is_available() else 'cpu'\n",
    "print(f\"Using device: {device}\")\n",
    "model.to(device)\n",
    "\n",
    " \n",
    "print(\"Starting training...\")\n",
    "try:\n",
    "    model.train(\n",
    "        data=DATASET_YAML,\n",
    "        epochs=EPOCHS,\n",
    "        batch=BATCH_SIZE,\n",
    "        imgsz=IMAGE_SIZE,\n",
    "        save_dir=os.path.dirname(TRAIN_DIR),  \n",
    "        project=SAVE_DIR,   \n",
    "        name=\"detect/train\",     \n",
    "        exist_ok=True       \n",
    "    )\n",
    "    print(f\"Training completed! Weights saved in {TRAIN_DIR}\")\n",
    "except Exception as e:\n",
    "    print(f\"Training failed with error: {e}\")\n",
    "\n",
    "\n",
    "# 測試並保存結果\n",
    "RECORDING_DIR = os.path.join(BASE_DIR, \"Recording\")\n",
    "os.makedirs(RECORDING_DIR, exist_ok=True)\n",
    "\n",
    "print(\"Generating predictions for test images...\")\n",
    "test_images = os.listdir(TEST_IMAGES_DIR)\n",
    "test_images = [os.path.join(TEST_IMAGES_DIR, img) for img in test_images[:20]]\n",
    "\n",
    "for img_path in tqdm(test_images, desc=\"Processing Images\"):\n",
    "    results = model.predict(source=img_path, save=False, save_txt=False, conf=0.5)\n",
    "    image = cv2.imread(img_path)\n",
    "    result_image = results[0].plot()\n",
    "    save_path = os.path.join(RECORDING_DIR, os.path.basename(img_path))\n",
    "    cv2.imwrite(save_path, result_image)\n",
    "    print(f\"Saved: {save_path}\")\n",
    "\n",
    "print(f\"Processed images saved in: {RECORDING_DIR}\")\n",
    "\n",
    "# 匯出模型為 TorchScript 格式\n",
    "print(\"Exporting the model to TorchScript format...\")\n",
    "try:\n",
    "    export_results = model.export(format='torchscript', imgsz=IMAGE_SIZE)\n",
    "    print(\"Model successfully exported to TorchScript format.\")\n",
    "except Exception as e:\n",
    "    print(f\"Model export failed with error: {e}\")\n",
    "\n"
   ]
  },
  {
   "cell_type": "code",
   "execution_count": null,
   "metadata": {},
   "outputs": [],
   "source": []
  }
 ],
 "metadata": {
  "kernelspec": {
   "display_name": "torch_env",
   "language": "python",
   "name": "python3"
  },
  "language_info": {
   "codemirror_mode": {
    "name": "ipython",
    "version": 3
   },
   "file_extension": ".py",
   "mimetype": "text/x-python",
   "name": "python",
   "nbconvert_exporter": "python",
   "pygments_lexer": "ipython3",
   "version": "3.8.18"
  }
 },
 "nbformat": 4,
 "nbformat_minor": 2
}
