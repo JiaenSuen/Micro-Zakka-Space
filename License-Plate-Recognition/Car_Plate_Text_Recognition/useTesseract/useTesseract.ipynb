{
 "cells": [
  {
   "cell_type": "code",
   "execution_count": 1,
   "id": "2a4d7ab0",
   "metadata": {},
   "outputs": [
    {
     "name": "stdout",
     "output_type": "stream",
     "text": [
      "EPGeMN112\n",
      "\n",
      "\n"
     ]
    }
   ],
   "source": [
    "from PIL import Image\n",
    "import pytesseract\n",
    "print(pytesseract.image_to_string(Image.open('test/license_plate.jpg')))\n",
    "\n"
   ]
  },
  {
   "cell_type": "markdown",
   "id": "f8f0c0c8",
   "metadata": {},
   "source": []
  },
  {
   "cell_type": "code",
   "execution_count": 2,
   "id": "847b9ab7",
   "metadata": {},
   "outputs": [
    {
     "name": "stdout",
     "output_type": "stream",
     "text": [
      "辨識字串： PGMN112\n"
     ]
    }
   ],
   "source": [
    "import cv2\n",
    "import numpy as np\n",
    "import pytesseract\n",
    "import re\n",
    "from PIL import Image\n",
    "\n",
    "# 1. 畫質強化\n",
    "def enhance_image(img, scale=2):\n",
    "    # 1.1 放大\n",
    "    h, w = img.shape[:2]\n",
    "    img = cv2.resize(img, (w*scale, h*scale), interpolation=cv2.INTER_CUBIC)\n",
    "    # 1.2 CLAHE（局部對比度）\n",
    "    gray = cv2.cvtColor(img, cv2.COLOR_BGR2GRAY)\n",
    "    clahe = cv2.createCLAHE(clipLimit=2.0, tileGridSize=(8,8))\n",
    "    gray = clahe.apply(gray)\n",
    "    # 1.3 銳化 (Unsharp Mask)\n",
    "    blur = cv2.GaussianBlur(gray, (0,0), sigmaX=3)\n",
    "    sharp = cv2.addWeighted(gray, 1.5, blur, -0.5, 0)\n",
    "    return sharp\n",
    "\n",
    "# 2. 斜視透視校正  \n",
    "def rectify_plate(img):\n",
    "    gray = cv2.cvtColor(img, cv2.COLOR_BGR2GRAY)\n",
    "    edges = cv2.Canny(gray, 100, 200)\n",
    "    cnts, _ = cv2.findContours(edges, cv2.RETR_LIST, cv2.CHAIN_APPROX_SIMPLE)\n",
    "    cnts = sorted(cnts, key=cv2.contourArea, reverse=True)\n",
    "    for c in cnts:\n",
    "        peri = cv2.arcLength(c, True)\n",
    "        approx = cv2.approxPolyDP(c, 0.02 * peri, True)\n",
    "        if len(approx) == 4:\n",
    "            pts = approx.reshape(4, 2)\n",
    "            break\n",
    "    else:\n",
    "        return img \n",
    "    \n",
    "    rect = np.zeros((4,2), dtype=\"float32\") # 依左上、右上、右下、左下排序\n",
    "    s = pts.sum(axis=1); rect[0] = pts[np.argmin(s)]; rect[2] = pts[np.argmax(s)]\n",
    "    diff = np.diff(pts, axis=1); rect[1] = pts[np.argmin(diff)]; rect[3] = pts[np.argmax(diff)]\n",
    "\n",
    "    # 計算寬高\n",
    "    (tl, tr, br, bl) = rect\n",
    "    widthA = np.linalg.norm(br - bl)\n",
    "    widthB = np.linalg.norm(tr - tl)\n",
    "    maxW = int(max(widthA, widthB))\n",
    "    heightA = np.linalg.norm(tr - br)\n",
    "    heightB = np.linalg.norm(tl - bl)\n",
    "    maxH = int(max(heightA, heightB))\n",
    "\n",
    "    # TTarget Coordinate \n",
    "    dst = np.array([[0,0], [maxW-1,0], [maxW-1,maxH-1], [0,maxH-1]], dtype=\"float32\")\n",
    "    M = cv2.getPerspectiveTransform(rect, dst)\n",
    "    warped = cv2.warpPerspective(img, M, (maxW, maxH))\n",
    "    return warped\n",
    "\n",
    "#  OCR Prediction\n",
    "def ocr_plate(img):\n",
    "    pil = Image.fromarray(img) # PIL 轉灰階\n",
    "    config = r'-c tessedit_char_whitelist=ABCDEFGHIJKLMNOPQRSTUVWXYZ0123456789 --psm 7' # 只允許 A–Z、0–9\n",
    "    text = pytesseract.image_to_string(pil, config=config)\n",
    "    text = re.sub(r'[^A-Z0-9]', '', text) # 移除所有非英數\n",
    "    return text\n",
    "\n",
    "if __name__ == \"__main__\":\n",
    "    img = cv2.imread(\"test/license_plate.jpg\") \n",
    "    plate       = rectify_plate(img)\n",
    "    enhanced    = enhance_image(plate, scale=2)\n",
    "    result      = ocr_plate(enhanced)\n",
    "    print(\"辨識字串：\", result)\n"
   ]
  },
  {
   "cell_type": "code",
   "execution_count": null,
   "id": "fc34a4e9",
   "metadata": {},
   "outputs": [],
   "source": []
  }
 ],
 "metadata": {
  "kernelspec": {
   "display_name": "torch_env",
   "language": "python",
   "name": "python3"
  },
  "language_info": {
   "codemirror_mode": {
    "name": "ipython",
    "version": 3
   },
   "file_extension": ".py",
   "mimetype": "text/x-python",
   "name": "python",
   "nbconvert_exporter": "python",
   "pygments_lexer": "ipython3",
   "version": "3.8.18"
  }
 },
 "nbformat": 4,
 "nbformat_minor": 5
}
